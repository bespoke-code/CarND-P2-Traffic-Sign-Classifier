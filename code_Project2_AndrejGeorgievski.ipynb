{
 "cells": [
  {
   "cell_type": "markdown",
   "metadata": {},
   "source": [
    "# Self-Driving Car Engineer Nanodegree\n",
    "\n",
    "## Deep Learning\n",
    "\n",
    "## Project: Build a Traffic Sign Recognition Classifier"
   ]
  },
  {
   "cell_type": "markdown",
   "metadata": {},
   "source": [
    "---\n",
    "## Step 0: Load The Data"
   ]
  },
  {
   "cell_type": "code",
   "execution_count": 1,
   "metadata": {
    "collapsed": true
   },
   "outputs": [],
   "source": [
    "# Load pickled data\n",
    "import pickle\n",
    "\n",
    "training_file = \"./data/traffic-signs-data/train.p\"\n",
    "validation_file = \"./data/traffic-signs-data/valid.p\"\n",
    "testing_file = \"./data/traffic-signs-data/test.p\"\n",
    "\n",
    "with open(training_file, mode='rb') as f:\n",
    "    train = pickle.load(f)\n",
    "with open(validation_file, mode='rb') as f:\n",
    "    valid = pickle.load(f)\n",
    "with open(testing_file, mode='rb') as f:\n",
    "    test = pickle.load(f)\n",
    "    \n",
    "X_train, y_train = train['features'], train['labels']\n",
    "X_validation, y_valid = valid['features'], valid['labels']\n",
    "X_test, y_test = test['features'], test['labels']"
   ]
  },
  {
   "cell_type": "markdown",
   "metadata": {},
   "source": [
    "---\n",
    "\n",
    "## Step 1: Dataset Summary & Exploration\n",
    "\n",
    "The pickled data is a dictionary with 4 key/value pairs:\n",
    "\n",
    "- `'features'` is a 4D array containing raw pixel data of the traffic sign images, (num examples, width, height, channels).\n",
    "- `'labels'` is a 1D array containing the label/class id of the traffic sign. The file `signnames.csv` contains id -> name mappings for each id.\n",
    "- `'sizes'` is a list containing tuples, (width, height) representing the original width and height the image.\n",
    "- `'coords'` is a list containing tuples, (x1, y1, x2, y2) representing coordinates of a bounding box around the sign in the image. \n",
    "\n",
    "**THESE COORDINATES ASSUME THE ORIGINAL IMAGE. THE PICKLED DATA CONTAINS RESIZED VERSIONS (32 by 32) OF THESE IMAGES**"
   ]
  },
  {
   "cell_type": "markdown",
   "metadata": {},
   "source": [
    "### Basic Summary of the Data Set"
   ]
  },
  {
   "cell_type": "markdown",
   "metadata": {},
   "source": [
    "#### Extracting the class labels\n",
    "The class labels in the dataset are integers, suitable for training. In order to provide more pleasant experience when analyzing the data in the next steps, I define a dictionary which will hold key-value pairs for each class label."
   ]
  },
  {
   "cell_type": "code",
   "execution_count": 2,
   "metadata": {},
   "outputs": [
    {
     "name": "stdout",
     "output_type": "stream",
     "text": [
      "{0: 'Speed limit (20km/h)', 1: 'Speed limit (30km/h)', 2: 'Speed limit (50km/h)', 3: 'Speed limit (60km/h)', 4: 'Speed limit (70km/h)', 5: 'Speed limit (80km/h)', 6: 'End of speed limit (80km/h)', 7: 'Speed limit (100km/h)', 8: 'Speed limit (120km/h)', 9: 'No passing', 10: 'No passing for vehicles over 3.5 metric tons', 11: 'Right-of-way at the next intersection', 12: 'Priority road', 13: 'Yield', 14: 'Stop', 15: 'No vehicles', 16: 'Vehicles over 3.5 metric tons prohibited', 17: 'No entry', 18: 'General caution', 19: 'Dangerous curve to the left', 20: 'Dangerous curve to the right', 21: 'Double curve', 22: 'Bumpy road', 23: 'Slippery road', 24: 'Road narrows on the right', 25: 'Road work', 26: 'Traffic signals', 27: 'Pedestrians', 28: 'Children crossing', 29: 'Bicycles crossing', 30: 'Beware of ice/snow', 31: 'Wild animals crossing', 32: 'End of all speed and passing limits', 33: 'Turn right ahead', 34: 'Turn left ahead', 35: 'Ahead only', 36: 'Go straight or right', 37: 'Go straight or left', 38: 'Keep right', 39: 'Keep left', 40: 'Roundabout mandatory', 41: 'End of no passing', 42: 'End of no passing by vehicles over 3.5 metric tons'}\n"
     ]
    }
   ],
   "source": [
    "# Extracting all class labels for better clarity\n",
    "import csv\n",
    "class_labels_file = './data/signnames.csv'\n",
    "\n",
    "with open(class_labels_file) as labels:\n",
    "    fileReader = csv.reader(labels)\n",
    "    class_labels = {int(item[0]):item[1] for item in fileReader}\n",
    "    \n",
    "print (class_labels)"
   ]
  },
  {
   "cell_type": "code",
   "execution_count": 3,
   "metadata": {},
   "outputs": [
    {
     "name": "stdout",
     "output_type": "stream",
     "text": [
      "X_train shape is  (34799, 32, 32, 3)\n",
      "X_train element shape is  (32, 32, 3)\n",
      "Number of training examples = 34799\n",
      "Number of validation examples = 4410\n",
      "Number of testing examples = 12630\n",
      "Image data shape = (32, 32, 3)\n",
      "Number of classes = 43\n"
     ]
    }
   ],
   "source": [
    "import numpy as np\n",
    "# Number of training examples\n",
    "n_train = len(X_train)\n",
    "\n",
    "# Number of validation examples\n",
    "n_validation = len(X_validation)\n",
    "\n",
    "# Number of testing examples.\n",
    "n_test = len(X_test)\n",
    "\n",
    "# What's the shape of an traffic sign image?\n",
    "print(\"X_train shape is \", np.array(X_train).shape)\n",
    "print(\"X_train element shape is \", np.array(X_train[0]).shape)\n",
    "image_shape = np.array(X_train).shape[1:4]\n",
    "\n",
    "# How many unique classes/labels there are in the dataset.\n",
    "n_classes = np.unique(np.array(y_train)).size\n",
    "\n",
    "print(\"Number of training examples =\", n_train)\n",
    "print(\"Number of validation examples =\", n_validation)\n",
    "print(\"Number of testing examples =\", n_test)\n",
    "print(\"Image data shape =\", image_shape)\n",
    "print(\"Number of classes =\", n_classes)"
   ]
  },
  {
   "cell_type": "markdown",
   "metadata": {},
   "source": [
    "### An exploratory visualization of the dataset"
   ]
  },
  {
   "cell_type": "code",
   "execution_count": 4,
   "metadata": {},
   "outputs": [
    {
     "data": {
      "image/png": "[encoded data removed]",
      "text/plain": [
       "<matplotlib.figure.Figure at 0x7f4aa644d128>"
      ]
     },
     "metadata": {},
     "output_type": "display_data"
    },
    {
     "data": {
      "image/png": "[encoded data removed]",
      "text/plain": [
       "<matplotlib.figure.Figure at 0x7f4accfabc18>"
      ]
     },
     "metadata": {},
     "output_type": "display_data"
    },
    {
     "data": {
      "image/png": "[encoded data removed]",
      "text/plain": [
       "<matplotlib.figure.Figure at 0x7f4a7af8ef28>"
      ]
     },
     "metadata": {},
     "output_type": "display_data"
    }
   ],
   "source": [
    "### Data exploration visualization code\n",
    "import matplotlib.pyplot as plt\n",
    "import cv2\n",
    "import random\n",
    "\n",
    "# Visualizations will be shown in the notebook.\n",
    "%matplotlib inline\n",
    "\n",
    "# Plot a single image from the test dataset\n",
    "index = random.randint(0, len(X_train))\n",
    "plt.imshow(X_train[index])\n",
    "plt.title(\"Class \" + class_labels[y_train[index]])\n",
    "plt.show()\n",
    "\n",
    "modifiedImg = cv2.cvtColor(X_train[index], cv2.COLOR_RGB2GRAY)\n",
    "plt.imshow(modifiedImg, cmap='gray')\n",
    "plt.title(\"Grayscale Image\")\n",
    "\n",
    "# Plotting a bar chart of the number of samples per class included in the dataset\n",
    "# Training set\n",
    "indices = np.arange(0, n_classes)\n",
    "bar_width = 0.1\n",
    "fig, axis = plt.subplots()\n",
    "\n",
    "classes, classes_count = np.unique(np.array(y_train), return_counts=True)\n",
    "\n",
    "barchart = plt.bar(indices, tuple(classes_count), bar_width, color='r', label=\"Sample count (per class)\")\n",
    "plt.xlabel(\"Class name\")\n",
    "plt.ylabel(\"Number of samples\")\n",
    "plt.title(\"Number of samples per class - Training data\")\n",
    "plt.show()"
   ]
  },
  {
   "cell_type": "markdown",
   "metadata": {},
   "source": [
    "----\n",
    "\n",
    "## Step 2: Design and Test a Model Architecture\n",
    "\n",
    "I Designed and implement a deep learning model that learns to recognize traffic signs. The model was trained and tested on Udacity's pickled subset of the [German Traffic Sign Dataset](http://benchmark.ini.rub.de/?section=gtsrb&subsection=dataset).\n",
    "\n",
    "The LeNet-5 implementation shown in the [classroom](https://classroom.udacity.com/nanodegrees/nd013/parts/fbf77062-5703-404e-b60c-95b78b2f3f9e/modules/6df7ae49-c61c-4bb2-a23e-6527e69209ec/lessons/601ae704-1035-4287-8b11-e2c2716217ad/concepts/d4aca031-508f-4e0b-b493-e7b706120f81) at the end of the CNN lesson is a solid starting point (as suggested), so I started from there and played with it until the required results were met. \n",
    "\n",
    "Here is an example of a [published baseline model on this problem](http://yann.lecun.com/exdb/publis/pdf/sermanet-ijcnn-11.pdf). _Udacity's tip_: It's not required to be familiar with the approach used in the paper but, it's good practice to try to read papers like these."
   ]
  },
  {
   "cell_type": "markdown",
   "metadata": {},
   "source": [
    "### Pre-process the Data Set (normalization, grayscale, etc.)"
   ]
  },
  {
   "cell_type": "markdown",
   "metadata": {},
   "source": [
    "Minimally, the image data should be normalized so that the data has mean zero and equal variance. For image data, `(pixel - 128)/ 128` is a quick way to approximately normalize the data and can be used in this project. I use SKImage's functions to equalize the histogram of grayscaled images."
   ]
  },
  {
   "cell_type": "code",
   "execution_count": 5,
   "metadata": {
    "collapsed": true
   },
   "outputs": [],
   "source": [
    "from sklearn.utils import shuffle\n",
    "\n",
    "# Normalization functions\n",
    "def normalize(dataset):\n",
    "    dataset = np.array(dataset)\n",
    "    print(\"Shape before normalization:\", dataset.shape)\n",
    "    dataset = (dataset - dataset.mean()) / dataset.std()\n",
    "    print(\"Shape after normalization:\", dataset.shape)\n",
    "    return dataset\n",
    "\n",
    "def grayscale(dataset):\n",
    "    return np.array([cv2.cvtColor(img, cv2.COLOR_RGB2GRAY) for img in dataset])[:,:,:,np.newaxis]\n",
    "\n",
    "def normalize_img(img):\n",
    "    img = np.array(img)\n",
    "    return (img - img.mean()) / img.std()\n",
    "\n",
    "def grayscale_img(img):\n",
    "    newimg = np.array(cv2.cvtColor(img, cv2.COLOR_RGB2GRAY))\n",
    "    return newimg"
   ]
  },
  {
   "cell_type": "code",
   "execution_count": 6,
   "metadata": {},
   "outputs": [
    {
     "data": {
      "image/png": "[encoded data removed]",
      "text/plain": [
       "<matplotlib.figure.Figure at 0x7f4ac8524a20>"
      ]
     },
     "metadata": {},
     "output_type": "display_data"
    }
   ],
   "source": [
    "from skimage.exposure import equalize_hist\n",
    "# http://blog.yhat.com/posts/image-processing-with-scikit-image.html_normalized_normalized\n",
    "\n",
    "plt.figure()\n",
    "\n",
    "for i in np.arange(0, 3):\n",
    "    index = random.randint(0, len(X_train))\n",
    "    plt.subplot(3,3,i*3+1)\n",
    "    plt.imshow(X_train[index])\n",
    "    if i == 0:\n",
    "        plt.title(\"Color\")\n",
    "    plt.subplot(3,3,i*3+2)\n",
    "    plt.imshow(normalize_img(grayscale_img(X_train[index])), cmap='gray')\n",
    "    if i == 0:\n",
    "        plt.title(\"Normalized\")\n",
    "    plt.subplot(3,3,i*3+3)\n",
    "    plt.imshow(equalize_hist(grayscale_img(X_train[index])), cmap='gray')\n",
    "    if i == 0:\n",
    "        plt.title(\"Equalized hist\")"
   ]
  },
  {
   "cell_type": "code",
   "execution_count": 7,
   "metadata": {},
   "outputs": [
    {
     "name": "stdout",
     "output_type": "stream",
     "text": [
      "New image training set shape is (34799, 32, 32, 1)\n",
      "Data preprocessing done.\n"
     ]
    }
   ],
   "source": [
    "def dataset_transform_for_CNN(dataset):\n",
    "    dataset = np.array([cv2.cvtColor(img, cv2.COLOR_RGB2GRAY) for img in dataset])\n",
    "    return equalize_hist(dataset)[:,:,:,np.newaxis]\n",
    "\n",
    "X_train_normalized = dataset_transform_for_CNN(X_train)\n",
    "\n",
    "X_validation_normalized = dataset_transform_for_CNN(X_validation)\n",
    "X_test_normalized = dataset_transform_for_CNN(X_test)\n",
    "\n",
    "print(\"New image training set shape is\", X_train_normalized.shape)\n",
    "\n",
    "X_train_normalized, y_train = shuffle(X_train_normalized, y_train)\n",
    "print(\"Data preprocessing done.\")"
   ]
  },
  {
   "cell_type": "markdown",
   "metadata": {},
   "source": [
    "### Model Architecture"
   ]
  },
  {
   "cell_type": "code",
   "execution_count": 8,
   "metadata": {
    "collapsed": true
   },
   "outputs": [],
   "source": [
    "### Define your architecture here.\n",
    "### Feel free to use as many code cells as needed.\n",
    "### Using the model from LeNet lab in the CarND, modified for better results\n",
    "import tensorflow as tf\n",
    "from tensorflow.contrib.layers import flatten\n",
    "\n",
    "EPOCHS = 25\n",
    "BATCH_SIZE = 256 # 16394\n",
    "\n",
    "\n",
    "def TrafficSignClassifier(x, keep_prob):    \n",
    "    # Arguments used for tf.truncated_normal, randomly defines variables for the weights and biases for each layer\n",
    "    mu = 0\n",
    "    sigma = 0.1\n",
    "    \n",
    "    # Layer 1: Convolutional. Input = 32x32x1. Output = 28x28x6.\n",
    "    conv1_W = tf.Variable(tf.truncated_normal(shape=(5, 5, 1, 6), mean = mu, stddev = sigma))\n",
    "    conv1_b = tf.Variable(tf.zeros(6))\n",
    "    conv1   = tf.nn.conv2d(x, conv1_W, strides=[1, 1, 1, 1], padding='VALID') + conv1_b\n",
    "\n",
    "    # Activation.\n",
    "    conv1 = tf.nn.relu(conv1)\n",
    "\n",
    "    # Pooling. Input = 28x28x6. Output = 14x14x6.\n",
    "    conv1 = tf.nn.max_pool(conv1, ksize=[1, 2, 2, 1], strides=[1, 2, 2, 1], padding='VALID')\n",
    "\n",
    "    # Layer 2: Convolutional. Output = 10x10x16.\n",
    "    conv2_W = tf.Variable(tf.truncated_normal(shape=(5, 5, 6, 16), mean = mu, stddev = sigma))\n",
    "    conv2_b = tf.Variable(tf.zeros(16))\n",
    "    conv2   = tf.nn.conv2d(conv1, conv2_W, strides=[1, 1, 1, 1], padding='VALID') + conv2_b\n",
    "    \n",
    "    # Activation.\n",
    "    conv2 = tf.nn.relu(conv2)\n",
    "\n",
    "    # Pooling. Input = 10x10x16. Output = 5x5x16.\n",
    "    conv2 = tf.nn.max_pool(conv2, ksize=[1, 2, 2, 1], strides=[1, 2, 2, 1], padding='VALID')\n",
    "\n",
    "    # Flatten. Input = 5x5x16. Output = 400.\n",
    "    fc0   = flatten(conv2)\n",
    "    \n",
    "    # Layer 3: Fully Connected. Input = 400. Output = 120.\n",
    "    fc1_W = tf.Variable(tf.truncated_normal(shape=(400, 120), mean = mu, stddev = sigma))\n",
    "    fc1_b = tf.Variable(tf.zeros(120))\n",
    "    fc1 = tf.matmul(fc0, fc1_W) + fc1_b\n",
    "    \n",
    "    # Activation.\n",
    "    fc1 = tf.nn.relu(fc1)\n",
    "    fc1 = tf.nn.dropout(fc1, keep_prob)\n",
    "\n",
    "    # Layer 4: Fully Connected. Input = 120. Output = 84.\n",
    "    fc2_W  = tf.Variable(tf.truncated_normal(shape=(120, 84), mean = mu, stddev = sigma))\n",
    "    fc2_b  = tf.Variable(tf.zeros(84))\n",
    "    fc2    = tf.matmul(fc1, fc2_W) + fc2_b\n",
    "    \n",
    "    # Activation.\n",
    "    fc2 = tf.nn.relu(fc2)\n",
    "    fc2 = tf.nn.dropout(fc2, keep_prob)\n",
    "\n",
    "    # Layer 5: Fully Connected. Input = 84. Output = 43.\n",
    "    fc3_W  = tf.Variable(tf.truncated_normal(shape=(84, 43), mean = mu, stddev = sigma))\n",
    "    fc3_b  = tf.Variable(tf.zeros(43))\n",
    "    logits = tf.matmul(fc2, fc3_W) + fc3_b\n",
    "    \n",
    "    return logits"
   ]
  },
  {
   "cell_type": "markdown",
   "metadata": {},
   "source": [
    "### Train, Validate and Test the Model"
   ]
  },
  {
   "cell_type": "markdown",
   "metadata": {},
   "source": [
    "A validation set can be used to assess how well the model is performing. A low accuracy on the training and validation\n",
    "sets imply underfitting. A high accuracy on the training set but low accuracy on the validation set implies overfitting."
   ]
  },
  {
   "cell_type": "code",
   "execution_count": 9,
   "metadata": {
    "collapsed": true
   },
   "outputs": [],
   "source": [
    "# Training pipeline\n",
    "### Using the model from LeNet lab in the CarND, modified for better results\n",
    "rate = 0.001\n",
    "\n",
    "x = tf.placeholder(tf.float32, (None, 32, 32, 1))\n",
    "y = tf.placeholder(tf.int32, (None))\n",
    "one_hot_y = tf.one_hot(y, n_classes)\n",
    "keep_prob = tf.placeholder(tf.float32)\n",
    "\n",
    "logits = TrafficSignClassifier(x, keep_prob)\n",
    "cross_entropy = tf.nn.softmax_cross_entropy_with_logits(labels=one_hot_y, logits=logits)\n",
    "loss_operation = tf.reduce_mean(cross_entropy)\n",
    "optimizer = tf.train.AdamOptimizer(learning_rate = rate)\n",
    "training_operation = optimizer.minimize(loss_operation)\n",
    "\n",
    "# Model evaluation\n",
    "correct_prediction = tf.equal(tf.argmax(logits, 1), tf.argmax(one_hot_y, 1))\n",
    "accuracy_operation = tf.reduce_mean(tf.cast(correct_prediction, tf.float32))\n",
    "saver = tf.train.Saver()\n",
    "\n",
    "def evaluate(X_data, y_data):\n",
    "    num_examples = len(X_data)\n",
    "    total_accuracy = 0\n",
    "    sess = tf.get_default_session()\n",
    "    for offset in range(0, num_examples, BATCH_SIZE):\n",
    "        batch_x, batch_y = X_data[offset:offset+BATCH_SIZE], y_data[offset:offset+BATCH_SIZE]\n",
    "        accuracy = sess.run(accuracy_operation, feed_dict={x: batch_x, y: batch_y, keep_prob: 1.0})\n",
    "        total_accuracy += (accuracy * len(batch_x))\n",
    "    return total_accuracy / num_examples"
   ]
  },
  {
   "cell_type": "code",
   "execution_count": 10,
   "metadata": {},
   "outputs": [
    {
     "name": "stdout",
     "output_type": "stream",
     "text": [
      "Training...\n",
      "\n",
      "EPOCH 1 ...\n",
      "Training Accuracy = 0.299\n",
      "Validation Accuracy = 0.289\n",
      "\n",
      "EPOCH 2 ...\n",
      "Training Accuracy = 0.617\n",
      "Validation Accuracy = 0.594\n",
      "\n",
      "EPOCH 3 ...\n",
      "Training Accuracy = 0.761\n",
      "Validation Accuracy = 0.734\n",
      "\n",
      "EPOCH 4 ...\n",
      "Training Accuracy = 0.839\n",
      "Validation Accuracy = 0.800\n",
      "\n",
      "EPOCH 5 ...\n",
      "Training Accuracy = 0.866\n",
      "Validation Accuracy = 0.822\n",
      "\n",
      "EPOCH 6 ...\n",
      "Training Accuracy = 0.903\n",
      "Validation Accuracy = 0.852\n",
      "\n",
      "EPOCH 7 ...\n",
      "Training Accuracy = 0.920\n",
      "Validation Accuracy = 0.873\n",
      "\n",
      "EPOCH 8 ...\n",
      "Training Accuracy = 0.931\n",
      "Validation Accuracy = 0.889\n",
      "\n",
      "EPOCH 9 ...\n",
      "Training Accuracy = 0.938\n",
      "Validation Accuracy = 0.903\n",
      "\n",
      "EPOCH 10 ...\n",
      "Training Accuracy = 0.945\n",
      "Validation Accuracy = 0.907\n",
      "\n",
      "EPOCH 11 ...\n",
      "Training Accuracy = 0.953\n",
      "Validation Accuracy = 0.906\n",
      "\n",
      "EPOCH 12 ...\n",
      "Training Accuracy = 0.959\n",
      "Validation Accuracy = 0.918\n",
      "\n",
      "EPOCH 13 ...\n",
      "Training Accuracy = 0.960\n",
      "Validation Accuracy = 0.917\n",
      "\n",
      "EPOCH 14 ...\n",
      "Training Accuracy = 0.966\n",
      "Validation Accuracy = 0.925\n",
      "\n",
      "EPOCH 15 ...\n",
      "Training Accuracy = 0.969\n",
      "Validation Accuracy = 0.924\n",
      "\n",
      "EPOCH 16 ...\n",
      "Training Accuracy = 0.971\n",
      "Validation Accuracy = 0.930\n",
      "\n",
      "EPOCH 17 ...\n",
      "Training Accuracy = 0.973\n",
      "Validation Accuracy = 0.938\n",
      "\n",
      "EPOCH 18 ...\n",
      "Training Accuracy = 0.976\n",
      "Validation Accuracy = 0.936\n",
      "\n",
      "EPOCH 19 ...\n",
      "Training Accuracy = 0.976\n",
      "Validation Accuracy = 0.935\n",
      "\n",
      "EPOCH 20 ...\n",
      "Training Accuracy = 0.978\n",
      "Validation Accuracy = 0.941\n",
      "\n",
      "EPOCH 21 ...\n",
      "Training Accuracy = 0.977\n",
      "Validation Accuracy = 0.938\n",
      "\n",
      "EPOCH 22 ...\n",
      "Training Accuracy = 0.982\n",
      "Validation Accuracy = 0.943\n",
      "\n",
      "EPOCH 23 ...\n",
      "Training Accuracy = 0.981\n",
      "Validation Accuracy = 0.941\n",
      "\n",
      "EPOCH 24 ...\n",
      "Training Accuracy = 0.979\n",
      "Validation Accuracy = 0.936\n",
      "\n",
      "EPOCH 25 ...\n",
      "Training Accuracy = 0.985\n",
      "Validation Accuracy = 0.947\n",
      "\n",
      "Model saved\n",
      "It took  312.8309726715088  seconds to train the network.\n"
     ]
    }
   ],
   "source": [
    "### Using the model from LeNet lab in the CarND, modified for better results\n",
    "\n",
    "import time\n",
    "\n",
    "start_time = time.time()\n",
    "with tf.Session() as sess:\n",
    "    sess.run(tf.global_variables_initializer())\n",
    "    num_examples = len(X_train_normalized)\n",
    "    \n",
    "    print(\"Training...\")\n",
    "    print()\n",
    "    for i in range(EPOCHS):\n",
    "        X_train_normalized, y_train = shuffle(X_train_normalized, y_train)\n",
    "        for offset in range(0, num_examples, BATCH_SIZE):\n",
    "            end = offset + BATCH_SIZE\n",
    "            batch_x, batch_y = X_train_normalized[offset:end], y_train[offset:end]\n",
    "            sess.run(training_operation, feed_dict={x: batch_x, y: batch_y, keep_prob: 0.5})\n",
    "            \n",
    "        training_accuracy = evaluate(X_train_normalized, y_train)\n",
    "        validation_accuracy = evaluate(X_validation_normalized, y_valid)\n",
    "        print(\"EPOCH {} ...\".format(i+1))\n",
    "        print(\"Training Accuracy = {:.3f}\".format(training_accuracy))\n",
    "        print(\"Validation Accuracy = {:.3f}\".format(validation_accuracy))\n",
    "        print()\n",
    "        \n",
    "    saver.save(sess, './traffic-sign-classifier-network')\n",
    "    print(\"Model saved\")\n",
    "    \n",
    "    print(\"It took \", time.time()-start_time, \" seconds to train the network.\")"
   ]
  },
  {
   "cell_type": "markdown",
   "metadata": {},
   "source": [
    "---\n",
    "\n",
    "## Step 3: Test a Model on New Images\n"
   ]
  },
  {
   "cell_type": "markdown",
   "metadata": {},
   "source": [
    "### Load and Output the Images"
   ]
  },
  {
   "cell_type": "code",
   "execution_count": 12,
   "metadata": {},
   "outputs": [
    {
     "name": "stdout",
     "output_type": "stream",
     "text": [
      "5 downloaded images\n"
     ]
    },
    {
     "data": {
      "image/png": "[encoded data removed]",
      "text/plain": [
       "<matplotlib.figure.Figure at 0x7f4a422dd550>"
      ]
     },
     "metadata": {},
     "output_type": "display_data"
    }
   ],
   "source": [
    "### Load the images and plot them here.\n",
    "### Feel free to use as many code cells as needed.\n",
    "y_downloaded = [14, 18, 5, 37, 1]\n",
    "downloaded_images = []\n",
    "for i in np.arange(2, 7):\n",
    "    img = cv2.imread(\"./data/downloaded-img-\"+str(i)+\".jpg\")\n",
    "    img = cv2.cvtColor(img, cv2.COLOR_BGR2RGB)\n",
    "    downloaded_images.append(img)\n",
    "\n",
    "    \n",
    "print(\"5 downloaded images\")\n",
    "plt.figure()\n",
    "for j in np.arange(1,6):\n",
    "    plt.subplot(1,5,j)\n",
    "    plt.imshow(downloaded_images[j-1])"
   ]
  },
  {
   "cell_type": "markdown",
   "metadata": {},
   "source": [
    "### Predict the Sign Type for Each Image"
   ]
  },
  {
   "cell_type": "code",
   "execution_count": 13,
   "metadata": {},
   "outputs": [
    {
     "name": "stdout",
     "output_type": "stream",
     "text": [
      "(5, 32, 32, 1)\n",
      "Downloaded image processing done.\n"
     ]
    },
    {
     "data": {
      "image/png": "[encoded data removed]",
      "text/plain": [
       "<matplotlib.figure.Figure at 0x7f4a209f80f0>"
      ]
     },
     "metadata": {},
     "output_type": "display_data"
    }
   ],
   "source": [
    "### Run the predictions here and use the model to output the prediction for each image.\n",
    "\n",
    "X_downloaded = dataset_transform_for_CNN(downloaded_images)\n",
    "\n",
    "plt.figure()\n",
    "for j in np.arange(1,6):\n",
    "    plt.subplot(1,5,j)\n",
    "    plt.imshow(X_downloaded[j-1, :, :, 0], cmap='gray')\n",
    "    \n",
    "X_downloaded, y_downloaded = shuffle(X_downloaded, y_downloaded)\n",
    "print(X_downloaded.shape)\n",
    "\n",
    "print(\"Downloaded image processing done.\")"
   ]
  },
  {
   "cell_type": "markdown",
   "metadata": {},
   "source": [
    "### Analyze Performance"
   ]
  },
  {
   "cell_type": "code",
   "execution_count": 14,
   "metadata": {},
   "outputs": [
    {
     "name": "stdout",
     "output_type": "stream",
     "text": [
      "INFO:tensorflow:Restoring parameters from ./traffic-sign-classifier-network\n",
      "Accuracy on the test set = 0.921\n",
      "Accuracy on the downloaded set = 0.800\n"
     ]
    }
   ],
   "source": [
    "### Calculate the accuracy for these 5 new images. \n",
    "### For example, if the model predicted 1 out of 5 signs correctly, it's 20% accurate on these new images.\n",
    "\n",
    "with tf.Session() as sess:\n",
    "    sess.run(tf.global_variables_initializer())\n",
    "    saver2 = tf.train.import_meta_graph('./traffic-sign-classifier-network.meta')\n",
    "    saver2.restore(sess, \"./traffic-sign-classifier-network\")\n",
    "    \n",
    "    test_imgs_accuracy = evaluate(X_test_normalized, np.array(y_test))\n",
    "    print(\"Accuracy on the test set = {:.3f}\".format(test_imgs_accuracy))\n",
    "    downloaded_imgs_accuracy = evaluate(X_downloaded, np.array(y_downloaded))\n",
    "    print(\"Accuracy on the downloaded set = {:.3f}\".format(downloaded_imgs_accuracy))"
   ]
  },
  {
   "cell_type": "markdown",
   "metadata": {},
   "source": [
    "### Output Top 5 Softmax Probabilities For Each Image Found on the Web"
   ]
  },
  {
   "cell_type": "markdown",
   "metadata": {},
   "source": [
    "For each of the new images, print out the model's softmax probabilities to show the **certainty** of the model's predictions (limit the output to the top 5 probabilities for each image). [`tf.nn.top_k`](https://www.tensorflow.org/versions/r0.12/api_docs/python/nn.html#top_k) proved helpful here. "
   ]
  },
  {
   "cell_type": "code",
   "execution_count": 15,
   "metadata": {},
   "outputs": [
    {
     "name": "stdout",
     "output_type": "stream",
     "text": [
      "INFO:tensorflow:Restoring parameters from ./traffic-sign-classifier-network\n",
      "TopKV2(values=array([[  9.99316335e-01,   4.50107007e-04,   1.34511298e-04,\n",
      "          9.79365432e-05,   7.46137744e-07],\n",
      "       [  4.48494703e-01,   2.67958254e-01,   1.18599951e-01,\n",
      "          8.65270048e-02,   3.42932083e-02],\n",
      "       [  9.99986887e-01,   6.66770029e-06,   6.44829834e-06,\n",
      "          1.85141902e-10,   1.00155745e-12],\n",
      "       [  9.97121036e-01,   1.42622786e-03,   1.36747584e-03,\n",
      "          8.52414305e-05,   4.77108797e-09],\n",
      "       [  6.66880965e-01,   1.69982716e-01,   1.12141587e-01,\n",
      "          2.68519390e-02,   2.26881728e-02]], dtype=float32), indices=array([[37, 40, 10, 33, 12],\n",
      "       [ 5,  3,  6, 36, 32],\n",
      "       [ 1,  2,  0, 31,  4],\n",
      "       [18, 26, 27, 24, 29],\n",
      "       [38, 17, 22, 26, 14]], dtype=int32))\n"
     ]
    }
   ],
   "source": [
    "softmax_logits = tf.nn.softmax(logits)\n",
    "top_5 = tf.nn.top_k(softmax_logits, k=5)\n",
    "\n",
    "with tf.Session() as sess:\n",
    "    sess.run(tf.global_variables_initializer())\n",
    "    saver2 = tf.train.import_meta_graph('./traffic-sign-classifier-network.meta')\n",
    "    saver2.restore(sess, \"./traffic-sign-classifier-network\")\n",
    "\n",
    "    predicted_logits = sess.run(softmax_logits, feed_dict={x: X_downloaded, keep_prob: 1.0})\n",
    "    predicted_top_5 = sess.run(top_5, feed_dict={x: X_downloaded, keep_prob: 1.0})\n",
    "    \n",
    "    print(predicted_top_5)"
   ]
  }
 ],
 "metadata": {
  "anaconda-cloud": {},
  "kernelspec": {
   "display_name": "Python 3",
   "language": "python",
   "name": "python3"
  },
  "language_info": {
   "codemirror_mode": {
    "name": "ipython",
    "version": 3
   },
   "file_extension": ".py",
   "mimetype": "text/x-python",
   "name": "python",
   "nbconvert_exporter": "python",
   "pygments_lexer": "ipython3",
   "version": "3.6.2"
  }
 },
 "nbformat": 4,
 "nbformat_minor": 1
}
